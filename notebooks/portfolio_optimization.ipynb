{
  "nbformat": 4,
  "nbformat_minor": 0,
  "metadata": {
    "colab": {
      "provenance": []
    },
    "kernelspec": {
      "name": "python3",
      "display_name": "Python 3"
    },
    "language_info": {
      "name": "python"
    }
  },
  "cells": [
    {
      "cell_type": "code",
      "source": [
        "import pandas as pd\n",
        "import numpy as np\n",
        "import yfinance as yf\n",
        "import matplotlib.pyplot as plt\n",
        "import cvxpy as cp"
      ],
      "metadata": {
        "id": "ltldnsxAgEb5"
      },
      "execution_count": 30,
      "outputs": []
    },
    {
      "cell_type": "markdown",
      "source": [
        "Load simulated portfolio return data\n"
      ],
      "metadata": {
        "id": "yMQGtXUcgGms"
      }
    },
    {
      "cell_type": "code",
      "source": [
        "df = pd.read_csv('portfolio_data.csv', parse_dates=['date'])"
      ],
      "metadata": {
        "id": "HwX-ea5rgFxB"
      },
      "execution_count": 31,
      "outputs": []
    },
    {
      "cell_type": "markdown",
      "source": [
        "Pivot to get daily return matrix"
      ],
      "metadata": {
        "id": "EdaaKa4xgJGj"
      }
    },
    {
      "cell_type": "code",
      "source": [
        "\n",
        "pivot = df.pivot(index='date', columns='vertical', values='daily_return').dropna()\n",
        "returns = pivot.to_numpy()\n",
        "tickers = pivot.columns.tolist()"
      ],
      "metadata": {
        "id": "d0k4D-yfgIPm"
      },
      "execution_count": 32,
      "outputs": []
    },
    {
      "cell_type": "markdown",
      "source": [
        "Estimate mean and covariance\n"
      ],
      "metadata": {
        "id": "J8DwhNTcgMuD"
      }
    },
    {
      "cell_type": "code",
      "source": [
        "mu = np.mean(returns, axis=0)\n",
        "cov = np.cov(returns.T)"
      ],
      "metadata": {
        "id": "jqADzxmMgL-b"
      },
      "execution_count": 33,
      "outputs": []
    },
    {
      "cell_type": "markdown",
      "source": [
        "Portfolio Optimization using Sharpe Ratio"
      ],
      "metadata": {
        "id": "lAi5DUOkgQAv"
      }
    },
    {
      "cell_type": "code",
      "source": [
        "n = len(tickers)\n",
        "w = cp.Variable(n)\n",
        "risk_free_rate = 0.0001"
      ],
      "metadata": {
        "id": "xOxNqQiVgOif"
      },
      "execution_count": 34,
      "outputs": []
    },
    {
      "cell_type": "markdown",
      "source": [
        "Sharpe Ratio Objective"
      ],
      "metadata": {
        "id": "rvp-JIVLgTCx"
      }
    },
    {
      "cell_type": "code",
      "source": [
        "target_return = 0.0005\n",
        "objective = cp.Minimize(cp.quad_form(w, cov))\n",
        "\n",
        "constraints = [\n",
        "    cp.sum(w) == 1,\n",
        "    w >= 0,\n",
        "    mu @ w >= target_return\n",
        "]\n",
        "\n",
        "prob = cp.Problem(objective, constraints)\n",
        "prob.solve()"
      ],
      "metadata": {
        "colab": {
          "base_uri": "https://localhost:8080/"
        },
        "id": "gtMPJ-WqgSS2",
        "outputId": "0bc8b96c-420c-4de1-ab47-f20449f2b803"
      },
      "execution_count": 37,
      "outputs": [
        {
          "output_type": "execute_result",
          "data": {
            "text/plain": [
              "np.float64(1.4427311367654766e-05)"
            ]
          },
          "metadata": {},
          "execution_count": 37
        }
      ]
    },
    {
      "cell_type": "markdown",
      "source": [
        "Results"
      ],
      "metadata": {
        "id": "QVxlhGSOgXd1"
      }
    },
    {
      "cell_type": "code",
      "source": [
        "\n",
        "print(\"Optimal Weights:\")\n",
        "for t, weight in zip(tickers, w.value.round(4)):\n",
        "    print(f\"{t}: {weight}\")\n",
        "\n",
        "print(f\"Max Sharpe Ratio: {prob.value:.4f}\")"
      ],
      "metadata": {
        "colab": {
          "base_uri": "https://localhost:8080/"
        },
        "id": "yIImr2mxgWn6",
        "outputId": "08087624-52d2-47e6-dedd-8151907e2509"
      },
      "execution_count": 38,
      "outputs": [
        {
          "output_type": "stream",
          "name": "stdout",
          "text": [
            "Optimal Weights:\n",
            "Energy: 0.163\n",
            "Finance: 0.216\n",
            "Pharma: 0.1322\n",
            "Real Estate: 0.1782\n",
            "Retail: 0.1395\n",
            "Tech: 0.1711\n",
            "Max Sharpe Ratio: 0.0000\n"
          ]
        }
      ]
    },
    {
      "cell_type": "markdown",
      "source": [
        "Plot"
      ],
      "metadata": {
        "id": "_Upn58wMgY5g"
      }
    },
    {
      "cell_type": "code",
      "source": [
        "plt.bar(tickers, w.value)\n",
        "plt.title(\"Optimal Portfolio Allocation (Sharpe Max)\")\n",
        "plt.ylabel(\"Weight\")\n",
        "plt.xticks(rotation=45)\n",
        "plt.grid(True)\n",
        "plt.show()\n"
      ],
      "metadata": {
        "colab": {
          "base_uri": "https://localhost:8080/",
          "height": 503
        },
        "id": "YoY_72zBgDSb",
        "outputId": "7a7b950e-0be9-4609-adac-b4c7f7e76ebb"
      },
      "execution_count": 39,
      "outputs": [
        {
          "output_type": "display_data",
          "data": {
            "text/plain": [
              "<Figure size 640x480 with 1 Axes>"
            ],
            "image/png": "[encoded data removed]"
          },
          "metadata": {}
        }
      ]
    },
    {
      "cell_type": "code",
      "source": [
        "risk_free_rate = 0.0001\n",
        "portfolio_return = mu @ w.value\n",
        "portfolio_vol = np.sqrt(w.value.T @ cov @ w.value)\n",
        "sharpe_ratio = (portfolio_return - risk_free_rate) / portfolio_vol\n",
        "\n",
        "print(f\"Sharpe Ratio of Optimized Portfolio: {sharpe_ratio:.4f}\")\n"
      ],
      "metadata": {
        "colab": {
          "base_uri": "https://localhost:8080/"
        },
        "id": "RNv_AWwGhfKa",
        "outputId": "f7d55f31-733f-4538-f9d0-60603bb5a89e"
      },
      "execution_count": 40,
      "outputs": [
        {
          "output_type": "stream",
          "name": "stdout",
          "text": [
            "Sharpe Ratio of Optimized Portfolio: 0.2092\n"
          ]
        }
      ]
    },
    {
      "cell_type": "code",
      "source": [
        "print(f\"Sharpe Ratio of Optimized Portfolio: {sharpe_ratio:.4f}\")\n"
      ],
      "metadata": {
        "colab": {
          "base_uri": "https://localhost:8080/"
        },
        "id": "zcrda62HhhcE",
        "outputId": "4377d70e-9775-4ceb-ed31-d247a5bc56c5"
      },
      "execution_count": 41,
      "outputs": [
        {
          "output_type": "stream",
          "name": "stdout",
          "text": [
            "Sharpe Ratio of Optimized Portfolio: 0.2092\n"
          ]
        }
      ]
    }
  ]
}